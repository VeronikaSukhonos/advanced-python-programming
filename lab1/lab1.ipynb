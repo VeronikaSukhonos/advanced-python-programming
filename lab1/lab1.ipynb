{
 "cells": [
  {
   "cell_type": "markdown",
   "id": "96f2b3ad-df8b-4656-8159-cc4cfb0afd58",
   "metadata": {},
   "source": [
    "<h1 align=\"center\">Лабораторна робота №1<br>Основи роботи в середовищі Jupyter Notebook</h1>\n",
    "\n",
    "***<center>Сухонос Вероніка, КН-423к</center>***\n",
    "\n",
    "**Мета роботи:** ознайомитись з особливостями використання мови Python в середовищі Jupyter Notebook та отримати навички роботи з блокнотом."
   ]
  },
  {
   "cell_type": "markdown",
   "id": "809831bd-b817-4fd4-878e-7c97411ad02d",
   "metadata": {},
   "source": [
    "## Варіант"
   ]
  },
  {
   "cell_type": "code",
   "execution_count": 3,
   "id": "616b12ac-5e36-491b-9828-62da4ae59437",
   "metadata": {},
   "outputs": [
    {
     "name": "stdout",
     "output_type": "stream",
     "text": [
      "Варіант №7\n"
     ]
    }
   ],
   "source": [
    "x = 'Veronika'\n",
    "N = ord(x[0]) % 10 + 1\n",
    "print(f'Варіант №{N}')"
   ]
  },
  {
   "cell_type": "markdown",
   "id": "12ea7752-e359-425d-8ca8-c17ae517a0b0",
   "metadata": {
    "jp-MarkdownHeadingCollapsed": true
   },
   "source": [
    "---\n",
    "\n",
    "## Завдання 1\n",
    "\n",
    "За допомогою мови Markdown та HTML тегів для країни відповідно до свого номеру варіанту (Ісландія) ввести інформацію щодо площі, населення, державного устрою, видатних персоналій, пам’яток культури та природи тощо.\n",
    "\n",
    "При оформленні інформації мають бути використані:\n",
    "- заголовки різних рівнів\n",
    "- різні види накреслення символів (курсив, напівжирний тощо)\n",
    "- символи різних кольорів\n",
    "- рамки навколо тексту\n",
    "- таблиці\n",
    "- вкладені списки\n",
    "- картинки за допомогою посилань та вбудовані\n",
    "- гіперпосилання\n",
    "- за допомогою HTML тегу `<svg>` намалювати прапор країни\n",
    "\n",
    "---"
   ]
  },
  {
   "cell_type": "code",
   "execution_count": 5,
   "id": "cc2a06ee-9aa8-4864-9038-38013779db02",
   "metadata": {},
   "outputs": [
    {
     "data": {
      "text/html": [
       "<style>\n",
       ".heading { font-family: cursive; color: goldenrod; text-align: center; }\n",
       "h3 { font-family: cursive; color: #84b4e0; }\n",
       "\n",
       "table { width: 100%; }\n",
       "th { background-color: #84b4e0; }\n",
       "\n",
       ".card, img {\n",
       "    border: dotted 5px #84b4e0;\n",
       "    border-radius: 10px;\n",
       "    padding: 15px;\n",
       "    margin: 15px auto;\n",
       "}\n",
       "</style>\n"
      ],
      "text/plain": [
       "<IPython.core.display.HTML object>"
      ]
     },
     "metadata": {},
     "output_type": "display_data"
    }
   ],
   "source": [
    "%%html\n",
    "<style>\n",
    ".heading { font-family: cursive; color: goldenrod; text-align: center; }\n",
    "h3 { font-family: cursive; color: #84b4e0; }\n",
    "\n",
    "table { width: 100%; }\n",
    "th { background-color: #84b4e0; }\n",
    "\n",
    ".card, img {\n",
    "    border: dotted 5px #84b4e0;\n",
    "    border-radius: 10px;\n",
    "    padding: 15px;\n",
    "    margin: 15px auto;\n",
    "}\n",
    "</style>"
   ]
  },
  {
   "cell_type": "markdown",
   "id": "71599225-3c3d-4435-a2be-4fd9f602f570",
   "metadata": {},
   "source": [
    "<h1 class=\"heading\">Ісландія</h1>\n",
    "\n",
    "> *нордична острівна держава в Європі, розташована у північній частині Атлантичного океану на Серединно-Атлантичному хребті*\n",
    "\n",
    "![View of Reykjavik](https://upload.wikimedia.org/wikipedia/commons/thumb/2/29/Vista_de_Reikiavik_desde_Perlan%2C_Distrito_de_la_Capital%2C_Islandia%2C_2014-08-13%2C_DD_134-145_HDR_PAN.JPG/1920px-Vista_de_Reikiavik_desde_Perlan%2C_Distrito_de_la_Capital%2C_Islandia%2C_2014-08-13%2C_DD_134-145_HDR_PAN.JPG)\n",
    "\n",
    "<h2 class=\"heading\">Загальна інформація</h2>\n",
    "\n",
    "<table>\n",
    "    <tr>\n",
    "        <th>Столиця</th>\n",
    "        <th>Площа</th>\n",
    "        <th>Населення</th>\n",
    "        <th>Форма правління</th>\n",
    "        <th>Валюта</th>\n",
    "    </tr>\n",
    "    <tr>\n",
    "        <td>Рейк’явік</td>\n",
    "        <td>103 000 км²</td>\n",
    "        <td>404 610 (2024)</td>\n",
    "        <td>парламентська республіка</td>\n",
    "        <td>ісландська крона (ISK)</td>\n",
    "    </tr>\n",
    "</table>"
   ]
  },
  {
   "cell_type": "code",
   "execution_count": 7,
   "id": "c42a0051-9a7a-49d4-9ae6-1242bffa29d1",
   "metadata": {},
   "outputs": [
    {
     "data": {
      "text/html": [
       "<h2 class=\"heading\">Прапор</h2>\n",
       "<center>\n",
       "<svg width=\"375\" height=\"270\" viewBox=\"0 0 625 450\">\n",
       "    <rect x=\"0\" y=\"0\" width=\"625\" height=\"450\" fill=\"#02529c\" />\n",
       "    <rect x=\"175\" y=\"0\" width=\"100\" height=\"450\" fill=\"#fff\" />\n",
       "    <rect x=\"0\" y=\"175\" width=\"625\" height=\"100\" fill=\"#fff\" />\n",
       "    <rect x=\"200\" y=\"0\" width=\"50\" height=\"450\" fill=\"#dc1e35\" />\n",
       "    <rect x=\"0\" y=\"200\" width=\"625\" height=\"50\" fill=\"#dc1e35\" />\n",
       "</svg>\n",
       "<center>\n"
      ],
      "text/plain": [
       "<IPython.core.display.HTML object>"
      ]
     },
     "metadata": {},
     "output_type": "display_data"
    }
   ],
   "source": [
    "%%html\n",
    "<h2 class=\"heading\">Прапор</h2>\n",
    "<center>\n",
    "<svg width=\"375\" height=\"270\" viewBox=\"0 0 625 450\">\n",
    "    <rect x=\"0\" y=\"0\" width=\"625\" height=\"450\" fill=\"#02529c\" />\n",
    "    <rect x=\"175\" y=\"0\" width=\"100\" height=\"450\" fill=\"#fff\" />\n",
    "    <rect x=\"0\" y=\"175\" width=\"625\" height=\"100\" fill=\"#fff\" />\n",
    "    <rect x=\"200\" y=\"0\" width=\"50\" height=\"450\" fill=\"#dc1e35\" />\n",
    "    <rect x=\"0\" y=\"200\" width=\"625\" height=\"50\" fill=\"#dc1e35\" />\n",
    "</svg>\n",
    "<center>"
   ]
  },
  {
   "attachments": {},
   "cell_type": "markdown",
   "id": "8dbda834-3c8b-44d4-b64e-09a575ff1b0d",
   "metadata": {},
   "source": [
    "<h2 class=\"heading\">Видатні персоналії</h2>\n",
    "\n",
    "<div class=\"card\">\n",
    "\n",
    "### Музика\n",
    "\n",
    "1. ***[Свейнб'єрн Свейнб'єрнссон](https://uk.wikipedia.org/wiki/%D0%A1%D0%B2%D0%B5%D0%B9%D0%BD%D0%B1%27%D1%94%D1%80%D0%BD_%D0%A1%D0%B2%D0%B5%D0%B9%D0%BD%D0%B1%27%D1%94%D1%80%D0%BD%D1%81%D1%81%D0%BE%D0%BD)*** (1847 - 1927)\n",
    "   * композитор\n",
    "   * автор твору <span style=\"color: darkgoldenrod\">**Lofsöngur**</span> (1874), що став національним гімном Ісландії\n",
    "2. ***[Бьорк Квюдмюндсдоуттір](https://uk.wikipedia.org/wiki/%D0%91%27%D1%94%D1%80%D0%BA)*** (нар. 1965)\n",
    "   * співачка, композиторка, акторка\n",
    "   * номінантка 16 «Греммі», 2 «Золотих глобусів» та «Оскару»\n",
    "    \n",
    "</div>\n",
    "\n",
    "<div class=\"card\">\n",
    "\n",
    "### Література та кінематограф\n",
    "\n",
    "<ol>\n",
    "    <li><a href=\"https://uk.wikipedia.org/wiki/%D0%93%D0%B0%D0%BB%D0%B4%D0%BE%D1%80_%D0%9B%D0%B0%D0%BA%D1%81%D0%BD%D0%B5%D1%81%D1%81\"><b><i>Галдор Лакснесс</i></b></a> (1902 - 1998)\n",
    "        <ul>\n",
    "            <li>письменник</li>\n",
    "            <li>лауреат Нобелівської премії з літератури (1955)</li>\n",
    "        </ul>\n",
    "    </li>\n",
    "    <li><a href=\"https://uk.wikipedia.org/wiki/%D0%9C%D0%B0%D0%B3%D0%BD%D1%83%D1%81_%D0%A8%D0%B5%D0%B2%D1%96%D0%BD%D0%B3\"><b><i>Магнус Шевінг</i></b></a> (нар. 1964)\n",
    "        <ul>\n",
    "            <li>письменник, продюсер</li>\n",
    "            <li>автор і актор однієї з головних ролей серіалу <span style=\"color: darkgoldenrod\"><b>«Байдиківка»</b></span> (2004 - 2008)</li>\n",
    "        </ul>\n",
    "    </li>\n",
    "</ol>\n",
    "    \n",
    "</div>\n",
    "\n",
    "<div class=\"card\">\n",
    "\n",
    "### Спорт\n",
    "\n",
    "1. ***[\n",
    "Магнус Вер Магнуссон](https://uk.wikipedia.org/wiki/%D0%9C%D0%B0%D0%B3%D0%BD%D1%83%D1%81_%D0%92%D0%B5%D1%80_%D0%9C%D0%B0%D0%B3%D0%BD%D1%83%D1%81%D1%81%D0%BE%D0%BD)*** (нар. 1963)\n",
    "   - паверліфтер\n",
    "   - <span style=\"color: darkgoldenrod\">**Найсильніша Людина Світу**</span> (1991, 1994, 1995 і 1996)\n",
    "2. ***[Ейдур Смарі Ґудйонсен](https://uk.wikipedia.org/wiki/%D0%95%D0%B9%D0%B4%D1%83%D1%80_%D2%90%D1%83%D0%B4%D1%8C%D0%B9%D0%BE%D0%BD%D1%81%D0%B5%D0%BD)*** (нар. 1978)\n",
    "   - футболіст\n",
    "   - найкращий бомбардир в історії збірної Ісландії\n",
    "    \n",
    "</div>"
   ]
  },
  {
   "cell_type": "markdown",
   "id": "79b033cd-8293-4280-bf10-a18951ba02fd",
   "metadata": {},
   "source": [
    "<h2 class=\"heading\">Пам'ятки культури та природи</h2>\n",
    "\n",
    "<div class=\"card\">\n",
    "    <h3>Національний парк Тінгведлір</h3>\n",
    "    <img src=\"./Thingvellir.jpg\" width=\"375\">\n",
    "\n",
    "| Параметр | Інформація |\n",
    "|:-|:-|\n",
    "| **Розташування** | Південна Ісландія |\n",
    "| **Заснування** | 1930 |\n",
    "| **Площа** | 9270 га |\n",
    "| **Особливості** | Розлом між Євразійською та Північноамериканською плитами, найбільше в Ісландії природне озеро Тінгваллаватн |\n",
    "| **Історичне значення** | Місце заснування найстарішого у світі збереженого парламенту — Альтінгу (930) |\n",
    "| **Статус** | Об’єкт Всесвітньої спадщини ЮНЕСКО (2004) |\n",
    "\n",
    "</div>\n",
    "\n",
    "<div class=\"card\">\n",
    "    <h3>Собор Хадльгрімскіркья</h3>\n",
    "    <img src=\"./Hallgrimskirkja.jpg\" width=\"375\">\n",
    "\n",
    "| Параметр | Інформація |\n",
    "|:-|:-|\n",
    "| **Розташування** | Рейк'явік |\n",
    "| **Архітектор** | Ґудйон Самуельссон |\n",
    "| **Кінець будівництва** | 1986 |\n",
    "| **Висота** | 74,5 м (найвища церква Ісландії) |\n",
    "| **Тип споруди** | Лютеранська церква |\n",
    "| **Особливості** | Панорамна оглядова вежа, 15-метровий орган із 5275 трубами |\n",
    "\n",
    "</div>"
   ]
  },
  {
   "cell_type": "markdown",
   "id": "0ceeae00-7676-4271-8a00-4df468e27172",
   "metadata": {},
   "source": [
    "---\n",
    "\n",
    "## Завдання 2\n",
    "\n",
    "Створити функцію для реалізації алгоритму відповідно до номеру свого варіанту. Для створеної функції реалізувати 2-3 тестові приклади в комірках ноутбуку. Для всіх варіантів організувати контроль значень, що вводяться.\n",
    "\n",
    "Реалізувати алгоритм переведення чисел (цілих та з рухомою комою) з десяткової системи числення в двійкову.\n",
    "\n",
    "Приклади:\n",
    "\n",
    "```python\n",
    "In [2]: task_7()\n",
    "        32\n",
    "Out[2]: '32 у двійковій системі буде 0|100000'\n",
    "\n",
    "In [3]: task_7()\n",
    "        -10.25\n",
    "Out[3]: '-10.25 у двійковій системі буде 1|1010.01'\n",
    "```\n",
    "\n",
    "---"
   ]
  },
  {
   "cell_type": "code",
   "execution_count": 11,
   "id": "c93d7828-1dc9-41bf-b1bc-4a484aa429e6",
   "metadata": {},
   "outputs": [],
   "source": [
    "def task_7():\n",
    "    num = input()\n",
    "\n",
    "    try:\n",
    "        num = float(num)\n",
    "    except ValueError:\n",
    "        print('Помилка. Введено нечислове значення')\n",
    "        return\n",
    "\n",
    "    base, res_int, res_fract = 2, '', '.'\n",
    "    i = abs(num)\n",
    "\n",
    "    fract = i - int(i)\n",
    "    while fract > 0:\n",
    "        fract *= base\n",
    "        res_fract += str(int(fract))\n",
    "        fract -= int(fract)\n",
    "\n",
    "    while i > 0:\n",
    "        res_int = str(int(i % base)) + res_int\n",
    "        i //= base\n",
    "\n",
    "    print(f'{num} у двійковій системі буде {int(num < 0)}|{res_int}{res_fract}')"
   ]
  },
  {
   "cell_type": "code",
   "execution_count": 12,
   "id": "062e95fa-10be-443f-bb5b-6bf9209d1760",
   "metadata": {},
   "outputs": [
    {
     "name": "stdin",
     "output_type": "stream",
     "text": [
      " text\n"
     ]
    },
    {
     "name": "stdout",
     "output_type": "stream",
     "text": [
      "Помилка. Введено нечислове значення\n"
     ]
    }
   ],
   "source": [
    "task_7() # text, 1text, text1"
   ]
  },
  {
   "cell_type": "code",
   "execution_count": 13,
   "id": "f1a96a53-abdd-4c27-9c3f-2c4664638eaf",
   "metadata": {},
   "outputs": [
    {
     "name": "stdin",
     "output_type": "stream",
     "text": [
      " 32\n"
     ]
    },
    {
     "name": "stdout",
     "output_type": "stream",
     "text": [
      "32.0 у двійковій системі буде 0|100000.\n"
     ]
    }
   ],
   "source": [
    "task_7() # 32"
   ]
  },
  {
   "cell_type": "code",
   "execution_count": 14,
   "id": "b13ee6b0-5272-4eb9-897d-f70c093100a3",
   "metadata": {},
   "outputs": [
    {
     "name": "stdin",
     "output_type": "stream",
     "text": [
      " -10.25\n"
     ]
    },
    {
     "name": "stdout",
     "output_type": "stream",
     "text": [
      "-10.25 у двійковій системі буде 1|1010.01\n"
     ]
    }
   ],
   "source": [
    "task_7() # -10.25"
   ]
  },
  {
   "cell_type": "code",
   "execution_count": 15,
   "id": "1e73aee1-5f28-41a8-8ade-2caf3d2f7567",
   "metadata": {},
   "outputs": [
    {
     "name": "stdin",
     "output_type": "stream",
     "text": [
      " 123.123\n"
     ]
    },
    {
     "name": "stdout",
     "output_type": "stream",
     "text": [
      "123.123 у двійковій системі буде 0|1111011.0001111101111100111011011001000101101000011101\n"
     ]
    }
   ],
   "source": [
    "task_7() # 123.123"
   ]
  },
  {
   "cell_type": "code",
   "execution_count": 16,
   "id": "ea1c86a3-8ba8-42ac-abcd-2b4332135937",
   "metadata": {},
   "outputs": [
    {
     "name": "stdin",
     "output_type": "stream",
     "text": [
      " -2000\n"
     ]
    },
    {
     "name": "stdout",
     "output_type": "stream",
     "text": [
      "-2000.0 у двійковій системі буде 1|11111010000.\n"
     ]
    }
   ],
   "source": [
    "task_7() # -2000"
   ]
  }
 ],
 "metadata": {
  "kernelspec": {
   "display_name": "Python [conda env:base] *",
   "language": "python",
   "name": "conda-base-py"
  },
  "language_info": {
   "codemirror_mode": {
    "name": "ipython",
    "version": 3
   },
   "file_extension": ".py",
   "mimetype": "text/x-python",
   "name": "python",
   "nbconvert_exporter": "python",
   "pygments_lexer": "ipython3",
   "version": "3.12.3"
  }
 },
 "nbformat": 4,
 "nbformat_minor": 5
}

{
 "cells": [
  {
   "cell_type": "markdown",
   "id": "41cac897-f8ea-4850-a83c-0d09892787f0",
   "metadata": {},
   "source": [
    "<h1 align=\"center\">Лабораторна робота №2<br>Робота з класами в Python</h1>\n",
    "\n",
    "***<center>Сухонос Вероніка, КН-423к</center>***\n",
    "\n",
    "**Мета роботи:** отримати базові навички створення класів та роботи з ними у мові програмування Python."
   ]
  },
  {
   "cell_type": "markdown",
   "id": "fd49720f-1ccf-4438-8a17-1b5969c6c2a4",
   "metadata": {},
   "source": [
    "## Варіант"
   ]
  },
  {
   "cell_type": "code",
   "execution_count": 3,
   "id": "41286aec-71e6-4f87-8bdc-020302b963a2",
   "metadata": {},
   "outputs": [
    {
     "name": "stdout",
     "output_type": "stream",
     "text": [
      "Варіант №3\n"
     ]
    }
   ],
   "source": [
    "x = 'Veronika'\n",
    "N = ord(x[0]) % 3 + 1\n",
    "print(f'Варіант №{N}')"
   ]
  },
  {
   "cell_type": "markdown",
   "id": "cbace6a7-12e7-497b-ad21-7267444da6ce",
   "metadata": {},
   "source": [
    "---\n",
    "\n",
    "## Створення класу для опрацювання трикутника\n",
    "\n",
    "1. Створити клас `Point` і реалізувати наступні методи:\n",
    "   * конструктор, що приймає `x` та `y` координати в якості параметрів.\n",
    "   * `__str__` метод для представлення об’єктів класу у вигляді рядку."
   ]
  },
  {
   "cell_type": "code",
   "execution_count": 5,
   "id": "f1c2f010-e740-4f6e-bf6e-0a4276273498",
   "metadata": {},
   "outputs": [],
   "source": [
    "class Point():\n",
    "\n",
    "    def __init__(self, x, y):\n",
    "        self.x = x\n",
    "        self.y = y\n",
    "\n",
    "    def __str__(self):\n",
    "        return f'({self.x}, {self.y})'"
   ]
  },
  {
   "cell_type": "markdown",
   "id": "0aec7ae7-bab2-4904-9268-f1dbe8a8bec1",
   "metadata": {},
   "source": [
    "2. Створити спеціальний клас винятків `WrongDataError`, що виводить повідомлення `\"These points create a degenerate triangle\"`, коли всі точки лежать на одній лінії (площа трикутника дорівнює 0)."
   ]
  },
  {
   "cell_type": "code",
   "execution_count": 7,
   "id": "f01ea566-f392-404a-b934-2c96df7c0038",
   "metadata": {},
   "outputs": [],
   "source": [
    "class WrongDataError(Exception):\n",
    "    \n",
    "    def __init__(self):\n",
    "        super().__init__(\"These points create a degenerate triangle\")"
   ]
  },
  {
   "cell_type": "markdown",
   "id": "8258d956-7a04-4031-ba12-a630ef49e209",
   "metadata": {},
   "source": [
    "3. Створити спеціальний клас винятків `MissingParameterError`, що виводить повідомлення `\"Missing parameter\"`, коли екземпляр класу `Triangle` створюється лише з одним або двома аргументами."
   ]
  },
  {
   "cell_type": "code",
   "execution_count": 9,
   "id": "19601739-8f9d-41d3-a3c0-8673ad1cdcc5",
   "metadata": {},
   "outputs": [],
   "source": [
    "class MissingParameterError(Exception):\n",
    "    \n",
    "    def __init__(self):\n",
    "        super().__init__(\"Missing parameter\")"
   ]
  },
  {
   "cell_type": "markdown",
   "id": "a1b6d306-8878-403b-9e36-2ffca2508617",
   "metadata": {},
   "source": [
    "4. Створити клас `Triangle` з наступними методами:\n",
    "   * конструктор з 3 вершинами в якості параметрів (усі вершини є екземплярами класу `Point`).\n",
    "       * переконатися, що створений трикутник існує і не є виродженим, тобто площа трикутника не дорівнює 0; якщо трикутник вироджений, викликати виключення `WrongDataError`.\n",
    "       * переконатися, що створений трикутник має 3 вершини; якщо це не так, викликати виключення `MissingParameterError`.\n",
    "   * `area()` - повертає площу трикутника.\n",
    "   * `perimeter()` - повертає периметр, округлений до 3 знаків після коми.\n",
    "   * `__str__` - представляє об'єкти класу як рядок."
   ]
  },
  {
   "cell_type": "code",
   "execution_count": 11,
   "id": "f3d87621-f59c-4c33-82c6-6f66a0ef4ac5",
   "metadata": {},
   "outputs": [],
   "source": [
    "from math import sqrt\n",
    "\n",
    "class Triangle():\n",
    "\n",
    "    def __init__(self, A=None, B=None, C=None):\n",
    "        if not A or not B or not C:\n",
    "            raise MissingParameterError()\n",
    "\n",
    "        self.A = A\n",
    "        self.B = B\n",
    "        self.C = C\n",
    "\n",
    "        if self.area() == 0:\n",
    "            raise WrongDataError()\n",
    "\n",
    "    def area(self):\n",
    "        a, b, c = self.sides()\n",
    "        sp = self.perimeter() / 2\n",
    "        return round(sqrt(sp * (sp - a) * (sp - b) * (sp - c)), 3)\n",
    "\n",
    "    def perimeter(self):\n",
    "        a, b, c = self.sides()\n",
    "        return round(a + b + c, 3)\n",
    "\n",
    "    def __str__(self):\n",
    "        return f'A = {self.A}, B = {self.B}, C = {self.C}'\n",
    "\n",
    "    def sides(self):\n",
    "        return (Triangle.sl(self.B, self.C), Triangle.sl(self.A, self.C), Triangle.sl(self.A, self.B))\n",
    "\n",
    "    @staticmethod\n",
    "    def sl(p1, p2):\n",
    "        return sqrt((p2.x - p1.x)**2 + (p2.y - p1.y)**2)"
   ]
  },
  {
   "cell_type": "code",
   "execution_count": 12,
   "id": "1bec43a0-4b76-4894-91d4-5f097f4d6b83",
   "metadata": {},
   "outputs": [
    {
     "name": "stdout",
     "output_type": "stream",
     "text": [
      "A = (-3, 6), B = (-3, 2), C = (3, 2)\n",
      "12.0\n",
      "17.211\n"
     ]
    }
   ],
   "source": [
    "triangle = Triangle(Point(-3, 6), Point(-3, 2), Point(3, 2))\n",
    "\n",
    "print(triangle)\n",
    "print(triangle.area())\n",
    "print(triangle.perimeter())"
   ]
  },
  {
   "cell_type": "code",
   "execution_count": 13,
   "id": "3d192571-ac37-4a48-aca0-019954dc2ada",
   "metadata": {},
   "outputs": [
    {
     "ename": "MissingParameterError",
     "evalue": "Missing parameter",
     "output_type": "error",
     "traceback": [
      "\u001b[1;31m---------------------------------------------------------------------------\u001b[0m",
      "\u001b[1;31mMissingParameterError\u001b[0m                     Traceback (most recent call last)",
      "Cell \u001b[1;32mIn[13], line 1\u001b[0m\n\u001b[1;32m----> 1\u001b[0m triangle \u001b[38;5;241m=\u001b[39m Triangle(Point(\u001b[38;5;241m-\u001b[39m\u001b[38;5;241m3\u001b[39m, \u001b[38;5;241m6\u001b[39m), Point(\u001b[38;5;241m-\u001b[39m\u001b[38;5;241m3\u001b[39m, \u001b[38;5;241m2\u001b[39m))\n",
      "Cell \u001b[1;32mIn[11], line 7\u001b[0m, in \u001b[0;36mTriangle.__init__\u001b[1;34m(self, A, B, C)\u001b[0m\n\u001b[0;32m      5\u001b[0m \u001b[38;5;28;01mdef\u001b[39;00m \u001b[38;5;21m__init__\u001b[39m(\u001b[38;5;28mself\u001b[39m, A\u001b[38;5;241m=\u001b[39m\u001b[38;5;28;01mNone\u001b[39;00m, B\u001b[38;5;241m=\u001b[39m\u001b[38;5;28;01mNone\u001b[39;00m, C\u001b[38;5;241m=\u001b[39m\u001b[38;5;28;01mNone\u001b[39;00m):\n\u001b[0;32m      6\u001b[0m     \u001b[38;5;28;01mif\u001b[39;00m \u001b[38;5;129;01mnot\u001b[39;00m A \u001b[38;5;129;01mor\u001b[39;00m \u001b[38;5;129;01mnot\u001b[39;00m B \u001b[38;5;129;01mor\u001b[39;00m \u001b[38;5;129;01mnot\u001b[39;00m C:\n\u001b[1;32m----> 7\u001b[0m         \u001b[38;5;28;01mraise\u001b[39;00m MissingParameterError()\n\u001b[0;32m      9\u001b[0m     \u001b[38;5;28mself\u001b[39m\u001b[38;5;241m.\u001b[39mA \u001b[38;5;241m=\u001b[39m A\n\u001b[0;32m     10\u001b[0m     \u001b[38;5;28mself\u001b[39m\u001b[38;5;241m.\u001b[39mB \u001b[38;5;241m=\u001b[39m B\n",
      "\u001b[1;31mMissingParameterError\u001b[0m: Missing parameter"
     ]
    }
   ],
   "source": [
    "triangle = Triangle(Point(-3, 6), Point(-3, 2))"
   ]
  },
  {
   "cell_type": "code",
   "execution_count": 14,
   "id": "e2b92de9-f0bc-4b93-a62c-2fc08dedf872",
   "metadata": {},
   "outputs": [
    {
     "ename": "WrongDataError",
     "evalue": "These points create a degenerate triangle",
     "output_type": "error",
     "traceback": [
      "\u001b[1;31m---------------------------------------------------------------------------\u001b[0m",
      "\u001b[1;31mWrongDataError\u001b[0m                            Traceback (most recent call last)",
      "Cell \u001b[1;32mIn[14], line 1\u001b[0m\n\u001b[1;32m----> 1\u001b[0m triangle \u001b[38;5;241m=\u001b[39m Triangle(Point(\u001b[38;5;241m-\u001b[39m\u001b[38;5;241m3\u001b[39m, \u001b[38;5;241m6\u001b[39m), Point(\u001b[38;5;241m-\u001b[39m\u001b[38;5;241m3\u001b[39m, \u001b[38;5;241m2\u001b[39m), Point(\u001b[38;5;241m-\u001b[39m\u001b[38;5;241m3\u001b[39m, \u001b[38;5;241m2\u001b[39m))\n",
      "Cell \u001b[1;32mIn[11], line 14\u001b[0m, in \u001b[0;36mTriangle.__init__\u001b[1;34m(self, A, B, C)\u001b[0m\n\u001b[0;32m     11\u001b[0m \u001b[38;5;28mself\u001b[39m\u001b[38;5;241m.\u001b[39mC \u001b[38;5;241m=\u001b[39m C\n\u001b[0;32m     13\u001b[0m \u001b[38;5;28;01mif\u001b[39;00m \u001b[38;5;28mself\u001b[39m\u001b[38;5;241m.\u001b[39marea() \u001b[38;5;241m==\u001b[39m \u001b[38;5;241m0\u001b[39m:\n\u001b[1;32m---> 14\u001b[0m     \u001b[38;5;28;01mraise\u001b[39;00m WrongDataError()\n",
      "\u001b[1;31mWrongDataError\u001b[0m: These points create a degenerate triangle"
     ]
    }
   ],
   "source": [
    "triangle = Triangle(Point(-3, 6), Point(-3, 2), Point(-3, 2))"
   ]
  }
 ],
 "metadata": {
  "kernelspec": {
   "display_name": "Python [conda env:base] *",
   "language": "python",
   "name": "conda-base-py"
  },
  "language_info": {
   "codemirror_mode": {
    "name": "ipython",
    "version": 3
   },
   "file_extension": ".py",
   "mimetype": "text/x-python",
   "name": "python",
   "nbconvert_exporter": "python",
   "pygments_lexer": "ipython3",
   "version": "3.12.3"
  }
 },
 "nbformat": 4,
 "nbformat_minor": 5
}
